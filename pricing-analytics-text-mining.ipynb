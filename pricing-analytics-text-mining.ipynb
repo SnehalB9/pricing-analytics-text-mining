{
 "cells": [
  {
   "cell_type": "code",
   "execution_count": 1,
   "metadata": {},
   "outputs": [],
   "source": [
    "import pandas as pd\n",
    "import numpy as np\n",
    "import matplotlib.pyplot as plt\n",
    "import seaborn as sns\n",
    "import gc\n",
    "import time\n",
    "\n",
    "import nltk\n",
    "from string import punctuation\n",
    "from nltk.corpus import stopwords\n",
    "from nltk.stem.porter import PorterStemmer\n",
    "\n",
    "from scipy.sparse import vstack, hstack, csr_matrix\n",
    "from sklearn.feature_extraction.text import CountVectorizer, TfidfVectorizer\n",
    "from sklearn.preprocessing import LabelBinarizer\n",
    "\n",
    "from sklearn.metrics import mean_squared_error\n",
    "from sklearn.pipeline import make_pipeline\n",
    "from sklearn.model_selection import KFold, cross_val_score, train_test_split\n",
    "\n",
    "from sklearn.linear_model import Ridge\n",
    "import lightgbm as lgb\n",
    "from sklearn.tree import DecisionTreeRegressor\n",
    "\n",
    "import warnings\n",
    "warnings.filterwarnings('ignore')\n",
    "\n",
    "%matplotlib inline"
   ]
  },
  {
   "cell_type": "markdown",
   "metadata": {},
   "source": [
    "## Read the data "
   ]
  },
  {
   "cell_type": "code",
   "execution_count": 2,
   "metadata": {},
   "outputs": [],
   "source": [
    "#Read training data\n",
    "train = pd.read_csv('train.tsv', sep = '\\t').head(100000)\n",
    "\n",
    "#Read testing data\n",
    "test = pd.read_csv('test.tsv', sep = '\\t').head(60000)"
   ]
  },
  {
   "cell_type": "markdown",
   "metadata": {},
   "source": [
    "## Data Quality Check "
   ]
  },
  {
   "cell_type": "code",
   "execution_count": 3,
   "metadata": {},
   "outputs": [
    {
     "data": {
      "text/html": [
       "<div>\n",
       "<style scoped>\n",
       "    .dataframe tbody tr th:only-of-type {\n",
       "        vertical-align: middle;\n",
       "    }\n",
       "\n",
       "    .dataframe tbody tr th {\n",
       "        vertical-align: top;\n",
       "    }\n",
       "\n",
       "    .dataframe thead th {\n",
       "        text-align: right;\n",
       "    }\n",
       "</style>\n",
       "<table border=\"1\" class=\"dataframe\">\n",
       "  <thead>\n",
       "    <tr style=\"text-align: right;\">\n",
       "      <th></th>\n",
       "      <th>train_id</th>\n",
       "      <th>name</th>\n",
       "      <th>item_condition_id</th>\n",
       "      <th>category_name</th>\n",
       "      <th>brand_name</th>\n",
       "      <th>price</th>\n",
       "      <th>shipping</th>\n",
       "      <th>item_description</th>\n",
       "    </tr>\n",
       "  </thead>\n",
       "  <tbody>\n",
       "    <tr>\n",
       "      <th>0</th>\n",
       "      <td>0</td>\n",
       "      <td>MLB Cincinnati Reds T Shirt Size XL</td>\n",
       "      <td>3</td>\n",
       "      <td>Men/Tops/T-shirts</td>\n",
       "      <td>NaN</td>\n",
       "      <td>10.0</td>\n",
       "      <td>1</td>\n",
       "      <td>No description yet</td>\n",
       "    </tr>\n",
       "    <tr>\n",
       "      <th>1</th>\n",
       "      <td>1</td>\n",
       "      <td>Razer BlackWidow Chroma Keyboard</td>\n",
       "      <td>3</td>\n",
       "      <td>Electronics/Computers &amp; Tablets/Components &amp; P...</td>\n",
       "      <td>Razer</td>\n",
       "      <td>52.0</td>\n",
       "      <td>0</td>\n",
       "      <td>This keyboard is in great condition and works ...</td>\n",
       "    </tr>\n",
       "    <tr>\n",
       "      <th>2</th>\n",
       "      <td>2</td>\n",
       "      <td>AVA-VIV Blouse</td>\n",
       "      <td>1</td>\n",
       "      <td>Women/Tops &amp; Blouses/Blouse</td>\n",
       "      <td>Target</td>\n",
       "      <td>10.0</td>\n",
       "      <td>1</td>\n",
       "      <td>Adorable top with a hint of lace and a key hol...</td>\n",
       "    </tr>\n",
       "    <tr>\n",
       "      <th>3</th>\n",
       "      <td>3</td>\n",
       "      <td>Leather Horse Statues</td>\n",
       "      <td>1</td>\n",
       "      <td>Home/Home Décor/Home Décor Accents</td>\n",
       "      <td>NaN</td>\n",
       "      <td>35.0</td>\n",
       "      <td>1</td>\n",
       "      <td>New with tags. Leather horses. Retail for [rm]...</td>\n",
       "    </tr>\n",
       "    <tr>\n",
       "      <th>4</th>\n",
       "      <td>4</td>\n",
       "      <td>24K GOLD plated rose</td>\n",
       "      <td>1</td>\n",
       "      <td>Women/Jewelry/Necklaces</td>\n",
       "      <td>NaN</td>\n",
       "      <td>44.0</td>\n",
       "      <td>0</td>\n",
       "      <td>Complete with certificate of authenticity</td>\n",
       "    </tr>\n",
       "  </tbody>\n",
       "</table>\n",
       "</div>"
      ],
      "text/plain": [
       "   train_id                                 name  item_condition_id  \\\n",
       "0         0  MLB Cincinnati Reds T Shirt Size XL                  3   \n",
       "1         1     Razer BlackWidow Chroma Keyboard                  3   \n",
       "2         2                       AVA-VIV Blouse                  1   \n",
       "3         3                Leather Horse Statues                  1   \n",
       "4         4                 24K GOLD plated rose                  1   \n",
       "\n",
       "                                       category_name brand_name  price  \\\n",
       "0                                  Men/Tops/T-shirts        NaN   10.0   \n",
       "1  Electronics/Computers & Tablets/Components & P...      Razer   52.0   \n",
       "2                        Women/Tops & Blouses/Blouse     Target   10.0   \n",
       "3                 Home/Home Décor/Home Décor Accents        NaN   35.0   \n",
       "4                            Women/Jewelry/Necklaces        NaN   44.0   \n",
       "\n",
       "   shipping                                   item_description  \n",
       "0         1                                 No description yet  \n",
       "1         0  This keyboard is in great condition and works ...  \n",
       "2         1  Adorable top with a hint of lace and a key hol...  \n",
       "3         1  New with tags. Leather horses. Retail for [rm]...  \n",
       "4         0          Complete with certificate of authenticity  "
      ]
     },
     "execution_count": 3,
     "metadata": {},
     "output_type": "execute_result"
    }
   ],
   "source": [
    "# Check train dataset\n",
    "train.head()"
   ]
  },
  {
   "cell_type": "code",
   "execution_count": 4,
   "metadata": {},
   "outputs": [
    {
     "data": {
      "text/html": [
       "<div>\n",
       "<style scoped>\n",
       "    .dataframe tbody tr th:only-of-type {\n",
       "        vertical-align: middle;\n",
       "    }\n",
       "\n",
       "    .dataframe tbody tr th {\n",
       "        vertical-align: top;\n",
       "    }\n",
       "\n",
       "    .dataframe thead th {\n",
       "        text-align: right;\n",
       "    }\n",
       "</style>\n",
       "<table border=\"1\" class=\"dataframe\">\n",
       "  <thead>\n",
       "    <tr style=\"text-align: right;\">\n",
       "      <th></th>\n",
       "      <th>test_id</th>\n",
       "      <th>name</th>\n",
       "      <th>item_condition_id</th>\n",
       "      <th>category_name</th>\n",
       "      <th>brand_name</th>\n",
       "      <th>shipping</th>\n",
       "      <th>item_description</th>\n",
       "    </tr>\n",
       "  </thead>\n",
       "  <tbody>\n",
       "    <tr>\n",
       "      <th>0</th>\n",
       "      <td>0</td>\n",
       "      <td>Breast cancer \"I fight like a girl\" ring</td>\n",
       "      <td>1</td>\n",
       "      <td>Women/Jewelry/Rings</td>\n",
       "      <td>NaN</td>\n",
       "      <td>1</td>\n",
       "      <td>Size 7</td>\n",
       "    </tr>\n",
       "    <tr>\n",
       "      <th>1</th>\n",
       "      <td>1</td>\n",
       "      <td>25 pcs NEW 7.5\"x12\" Kraft Bubble Mailers</td>\n",
       "      <td>1</td>\n",
       "      <td>Other/Office supplies/Shipping Supplies</td>\n",
       "      <td>NaN</td>\n",
       "      <td>1</td>\n",
       "      <td>25 pcs NEW 7.5\"x12\" Kraft Bubble Mailers Lined...</td>\n",
       "    </tr>\n",
       "    <tr>\n",
       "      <th>2</th>\n",
       "      <td>2</td>\n",
       "      <td>Coach bag</td>\n",
       "      <td>1</td>\n",
       "      <td>Vintage &amp; Collectibles/Bags and Purses/Handbag</td>\n",
       "      <td>Coach</td>\n",
       "      <td>1</td>\n",
       "      <td>Brand new coach bag. Bought for [rm] at a Coac...</td>\n",
       "    </tr>\n",
       "    <tr>\n",
       "      <th>3</th>\n",
       "      <td>3</td>\n",
       "      <td>Floral Kimono</td>\n",
       "      <td>2</td>\n",
       "      <td>Women/Sweaters/Cardigan</td>\n",
       "      <td>NaN</td>\n",
       "      <td>0</td>\n",
       "      <td>-floral kimono -never worn -lightweight and pe...</td>\n",
       "    </tr>\n",
       "    <tr>\n",
       "      <th>4</th>\n",
       "      <td>4</td>\n",
       "      <td>Life after Death</td>\n",
       "      <td>3</td>\n",
       "      <td>Other/Books/Religion &amp; Spirituality</td>\n",
       "      <td>NaN</td>\n",
       "      <td>1</td>\n",
       "      <td>Rediscovering life after the loss of a loved o...</td>\n",
       "    </tr>\n",
       "  </tbody>\n",
       "</table>\n",
       "</div>"
      ],
      "text/plain": [
       "   test_id                                      name  item_condition_id  \\\n",
       "0        0  Breast cancer \"I fight like a girl\" ring                  1   \n",
       "1        1  25 pcs NEW 7.5\"x12\" Kraft Bubble Mailers                  1   \n",
       "2        2                                 Coach bag                  1   \n",
       "3        3                             Floral Kimono                  2   \n",
       "4        4                          Life after Death                  3   \n",
       "\n",
       "                                    category_name brand_name  shipping  \\\n",
       "0                             Women/Jewelry/Rings        NaN         1   \n",
       "1         Other/Office supplies/Shipping Supplies        NaN         1   \n",
       "2  Vintage & Collectibles/Bags and Purses/Handbag      Coach         1   \n",
       "3                         Women/Sweaters/Cardigan        NaN         0   \n",
       "4             Other/Books/Religion & Spirituality        NaN         1   \n",
       "\n",
       "                                    item_description  \n",
       "0                                             Size 7  \n",
       "1  25 pcs NEW 7.5\"x12\" Kraft Bubble Mailers Lined...  \n",
       "2  Brand new coach bag. Bought for [rm] at a Coac...  \n",
       "3  -floral kimono -never worn -lightweight and pe...  \n",
       "4  Rediscovering life after the loss of a loved o...  "
      ]
     },
     "execution_count": 4,
     "metadata": {},
     "output_type": "execute_result"
    }
   ],
   "source": [
    "# Check test dataframe\n",
    "test.head()"
   ]
  },
  {
   "cell_type": "code",
   "execution_count": 5,
   "metadata": {},
   "outputs": [
    {
     "data": {
      "text/plain": [
       "train_id               int64\n",
       "name                  object\n",
       "item_condition_id      int64\n",
       "category_name         object\n",
       "brand_name            object\n",
       "price                float64\n",
       "shipping               int64\n",
       "item_description      object\n",
       "dtype: object"
      ]
     },
     "execution_count": 5,
     "metadata": {},
     "output_type": "execute_result"
    }
   ],
   "source": [
    "# CHeckthe type of features, and see if there are any inconsistencies\n",
    "train.dtypes"
   ]
  },
  {
   "cell_type": "code",
   "execution_count": 6,
   "metadata": {},
   "outputs": [
    {
     "name": "stdout",
     "output_type": "stream",
     "text": [
      "<class 'pandas.core.frame.DataFrame'>\n",
      "RangeIndex: 100000 entries, 0 to 99999\n",
      "Data columns (total 8 columns):\n",
      "train_id             100000 non-null int64\n",
      "name                 100000 non-null object\n",
      "item_condition_id    100000 non-null int64\n",
      "category_name        99583 non-null object\n",
      "brand_name           57076 non-null object\n",
      "price                100000 non-null float64\n",
      "shipping             100000 non-null int64\n",
      "item_description     100000 non-null object\n",
      "dtypes: float64(1), int64(3), object(4)\n",
      "memory usage: 6.1+ MB\n"
     ]
    }
   ],
   "source": [
    "# Check more information about the dataframe\n",
    "train.info()"
   ]
  },
  {
   "cell_type": "code",
   "execution_count": 7,
   "metadata": {},
   "outputs": [
    {
     "data": {
      "text/plain": [
       "train_id             False\n",
       "name                 False\n",
       "item_condition_id    False\n",
       "category_name         True\n",
       "brand_name            True\n",
       "price                False\n",
       "shipping             False\n",
       "item_description     False\n",
       "dtype: bool"
      ]
     },
     "execution_count": 7,
     "metadata": {},
     "output_type": "execute_result"
    }
   ],
   "source": [
    "# The information above indicates there are missing values in some columns\n",
    "# Check for columns with missing values\n",
    "train.isnull().any()"
   ]
  },
  {
   "cell_type": "code",
   "execution_count": 8,
   "metadata": {},
   "outputs": [
    {
     "data": {
      "text/plain": [
       "test_id              False\n",
       "name                 False\n",
       "item_condition_id    False\n",
       "category_name         True\n",
       "brand_name            True\n",
       "shipping             False\n",
       "item_description     False\n",
       "dtype: bool"
      ]
     },
     "execution_count": 8,
     "metadata": {},
     "output_type": "execute_result"
    }
   ],
   "source": [
    "# Check for missing values in test dataset\n",
    "test.isnull().any()"
   ]
  },
  {
   "cell_type": "code",
   "execution_count": 9,
   "metadata": {},
   "outputs": [
    {
     "name": "stdout",
     "output_type": "stream",
     "text": [
      "The shape of the train dataset is (100000, 8)\n",
      "The shape of the test dataset is (60000, 7)\n"
     ]
    }
   ],
   "source": [
    "# What is the shape of training set?\n",
    "print('The shape of the train dataset is', train.shape)\n",
    "\n",
    "#What is the shape of the test set?\n",
    "print('The shape of the test dataset is', test.shape)"
   ]
  },
  {
   "cell_type": "code",
   "execution_count": 10,
   "metadata": {},
   "outputs": [],
   "source": [
    "# Function to create combined set. \n",
    "# You would want to apply count vectorizer on combined set so you can get the list of all possible words.\n",
    "def combineTrainTestSet():\n",
    "    all_data = pd.concat((train.drop(['train_id', 'price'], axis = 1),\n",
    "                          test.drop(['test_id'], axis = 1))).reset_index(drop=True)\n",
    "\n",
    "    # Create the submission set (Only contains the test IDs)\n",
    "    submission = test[['test_id']]\n",
    "\n",
    "    # size of train\n",
    "    train_size = len(train)\n",
    "    \n",
    "    return (all_data, submission, train_size)"
   ]
  },
  {
   "cell_type": "markdown",
   "metadata": {},
   "source": [
    "## Data Cleansing "
   ]
  },
  {
   "cell_type": "markdown",
   "metadata": {},
   "source": [
    "### Data with 0 price "
   ]
  },
  {
   "cell_type": "code",
   "execution_count": 11,
   "metadata": {},
   "outputs": [
    {
     "name": "stdout",
     "output_type": "stream",
     "text": [
      "Count of records with 0 prices: 65\n"
     ]
    }
   ],
   "source": [
    "# check data which has price as 0\n",
    "print('Count of records with 0 prices:', train[train['price']==0].shape[0])"
   ]
  },
  {
   "cell_type": "code",
   "execution_count": 12,
   "metadata": {},
   "outputs": [],
   "source": [
    "# deleting all records that have price as 0\n",
    "train = train[train['price']!=0].reset_index()"
   ]
  },
  {
   "cell_type": "code",
   "execution_count": 13,
   "metadata": {},
   "outputs": [],
   "source": [
    "# utilize function created earlier to create various data slices\n",
    "all_data, submission, train_size = combineTrainTestSet()"
   ]
  },
  {
   "cell_type": "markdown",
   "metadata": {},
   "source": [
    "## Missing values "
   ]
  },
  {
   "cell_type": "code",
   "execution_count": 14,
   "metadata": {},
   "outputs": [
    {
     "data": {
      "text/plain": [
       "<matplotlib.axes._subplots.AxesSubplot at 0x19e8aea4dd8>"
      ]
     },
     "execution_count": 14,
     "metadata": {},
     "output_type": "execute_result"
    },
    {
     "data": {
      "image/png": "[encoded data removed]",
      "text/plain": [
       "<matplotlib.figure.Figure at 0x19e8ae61e10>"
      ]
     },
     "metadata": {},
     "output_type": "display_data"
    }
   ],
   "source": [
    "#count number of missing values in each column\n",
    "missing_total = all_data.isnull().sum().sort_values(ascending=False)\n",
    "\n",
    "#calculate percent of missing values in each column \n",
    "percent = (all_data.isnull().sum()*100/all_data.isnull().count().sort_values(ascending=False))\n",
    "\n",
    "#create a dataframe with missing values and percents\n",
    "missing_data = pd.concat([missing_total, percent], axis=1, keys =['Total', 'Percent'])\n",
    "\n",
    "#plot only columns that have more than 0% data missing\n",
    "missing_data[missing_data['Percent']>0]['Percent'].sort_values( ascending=False).plot(kind= 'bar', by='Percent', title='% Missing in Train Dataset')"
   ]
  },
  {
   "cell_type": "code",
   "execution_count": 15,
   "metadata": {},
   "outputs": [
    {
     "data": {
      "text/plain": [
       "brand_name           42.825523\n",
       "category_name         0.434552\n",
       "index                37.515241\n",
       "item_condition_id     0.000000\n",
       "item_description      0.000000\n",
       "name                  0.000000\n",
       "shipping              0.000000\n",
       "dtype: float64"
      ]
     },
     "execution_count": 15,
     "metadata": {},
     "output_type": "execute_result"
    }
   ],
   "source": [
    "percent"
   ]
  },
  {
   "cell_type": "markdown",
   "metadata": {},
   "source": [
    "## Imputation or fill missing data"
   ]
  },
  {
   "cell_type": "code",
   "execution_count": 16,
   "metadata": {},
   "outputs": [],
   "source": [
    "# For column brand_name, if it's blank, we can assume it is unbranded\n",
    "all_data['brand_name'] = all_data['brand_name'].fillna('unbranded')\n",
    "\n",
    "# For column category_names, we can fill missing values with \"other\"\n",
    "all_data['category_name'] = all_data['category_name'].fillna('other/other/other')\n"
   ]
  },
  {
   "cell_type": "markdown",
   "metadata": {},
   "source": [
    "## Data Correction"
   ]
  },
  {
   "cell_type": "code",
   "execution_count": 17,
   "metadata": {},
   "outputs": [],
   "source": [
    "# make all strings lowercase to remove case dependancy for string match\n",
    "all_data = all_data.applymap(lambda s: s.lower() if type(s) == str else s)\n",
    "\n",
    "#some item_description have values \"no description yet\" and some have \"no description\"\n",
    "#replace these with \"none\" using lambda function which checks each row of the column\n",
    "\n",
    "all_data['item_description'] = all_data['item_description'].apply(lambda x: 'none' if x== 'no description yet' else x)\n",
    "all_data['item_description'] = all_data['item_description'].apply(lambda x: 'none' if x== 'no description' else x)"
   ]
  },
  {
   "cell_type": "markdown",
   "metadata": {},
   "source": [
    "## Minor feature engineering"
   ]
  },
  {
   "cell_type": "code",
   "execution_count": 18,
   "metadata": {},
   "outputs": [],
   "source": [
    "# The category name is of the form \"General category/Subcategory1/Subcategory2\"\n",
    "# Let us segregate it in 3 columns\n",
    "\n",
    "def segregate_category(text):\n",
    "    try: return text.split(\"/\")\n",
    "    except: return (\"other\", \"other\", \"other\")"
   ]
  },
  {
   "cell_type": "code",
   "execution_count": 19,
   "metadata": {},
   "outputs": [],
   "source": [
    "#apply the function created above to generate new columns with various categories split\n",
    "all_data['category_main'], all_data['category_sub1'],all_data['category_sub2'] = zip(*all_data['category_name'].apply(segregate_category))"
   ]
  },
  {
   "cell_type": "code",
   "execution_count": 20,
   "metadata": {},
   "outputs": [],
   "source": [
    "#add correction to account for \"other\" replacement with pre-exisitng categories\n",
    "#if category_sub1 is other, use main category:\n",
    "all_data.loc[all_data['category_sub1']=='other', 'category_sub1'] = all_data['category_main']\n",
    "\n",
    "#if category_sub2 is other use category_sub1\n",
    "all_data.loc[all_data['category_sub2']=='other', 'category_sub2'] = all_data['category_sub1']"
   ]
  },
  {
   "cell_type": "code",
   "execution_count": 21,
   "metadata": {},
   "outputs": [],
   "source": [
    "# function to update changes in train and test set\n",
    "def updateTrainTestDataset():\n",
    "    global train\n",
    "    global test\n",
    "    ntrain = train.shape[0]\n",
    "    ntest = test.shape[0]\n",
    "    \n",
    "    label = train['price']\n",
    "    train = all_data[:ntrain] # get only the train rows from all_data\n",
    "    train['price'] = label\n",
    "    test = all_data[ntrain:].reset_index().drop(['index'], axis = 1)"
   ]
  },
  {
   "cell_type": "code",
   "execution_count": 22,
   "metadata": {},
   "outputs": [],
   "source": [
    "updateTrainTestDataset()"
   ]
  },
  {
   "cell_type": "markdown",
   "metadata": {},
   "source": [
    "## Exploratory Data Analysis "
   ]
  },
  {
   "cell_type": "code",
   "execution_count": 23,
   "metadata": {},
   "outputs": [
    {
     "data": {
      "text/html": [
       "<div>\n",
       "<style scoped>\n",
       "    .dataframe tbody tr th:only-of-type {\n",
       "        vertical-align: middle;\n",
       "    }\n",
       "\n",
       "    .dataframe tbody tr th {\n",
       "        vertical-align: top;\n",
       "    }\n",
       "\n",
       "    .dataframe thead th {\n",
       "        text-align: right;\n",
       "    }\n",
       "</style>\n",
       "<table border=\"1\" class=\"dataframe\">\n",
       "  <thead>\n",
       "    <tr style=\"text-align: right;\">\n",
       "      <th></th>\n",
       "      <th>count</th>\n",
       "      <th>unique</th>\n",
       "      <th>top</th>\n",
       "      <th>freq</th>\n",
       "    </tr>\n",
       "  </thead>\n",
       "  <tbody>\n",
       "    <tr>\n",
       "      <th>brand_name</th>\n",
       "      <td>159935</td>\n",
       "      <td>2451</td>\n",
       "      <td>unbranded</td>\n",
       "      <td>68493</td>\n",
       "    </tr>\n",
       "    <tr>\n",
       "      <th>category_name</th>\n",
       "      <td>159935</td>\n",
       "      <td>1037</td>\n",
       "      <td>women/athletic apparel/pants, tights, leggings</td>\n",
       "      <td>6419</td>\n",
       "    </tr>\n",
       "    <tr>\n",
       "      <th>index</th>\n",
       "      <td>99935</td>\n",
       "      <td>99935</td>\n",
       "      <td>99999</td>\n",
       "      <td>1</td>\n",
       "    </tr>\n",
       "    <tr>\n",
       "      <th>item_condition_id</th>\n",
       "      <td>159935</td>\n",
       "      <td>5</td>\n",
       "      <td>1</td>\n",
       "      <td>68799</td>\n",
       "    </tr>\n",
       "    <tr>\n",
       "      <th>item_description</th>\n",
       "      <td>159935</td>\n",
       "      <td>143606</td>\n",
       "      <td>none</td>\n",
       "      <td>8963</td>\n",
       "    </tr>\n",
       "    <tr>\n",
       "      <th>name</th>\n",
       "      <td>159935</td>\n",
       "      <td>141999</td>\n",
       "      <td>bundle</td>\n",
       "      <td>293</td>\n",
       "    </tr>\n",
       "    <tr>\n",
       "      <th>shipping</th>\n",
       "      <td>159935</td>\n",
       "      <td>2</td>\n",
       "      <td>0</td>\n",
       "      <td>88526</td>\n",
       "    </tr>\n",
       "    <tr>\n",
       "      <th>category_main</th>\n",
       "      <td>159935</td>\n",
       "      <td>10</td>\n",
       "      <td>women</td>\n",
       "      <td>71783</td>\n",
       "    </tr>\n",
       "    <tr>\n",
       "      <th>category_sub1</th>\n",
       "      <td>159935</td>\n",
       "      <td>120</td>\n",
       "      <td>athletic apparel</td>\n",
       "      <td>14448</td>\n",
       "    </tr>\n",
       "    <tr>\n",
       "      <th>category_sub2</th>\n",
       "      <td>159935</td>\n",
       "      <td>798</td>\n",
       "      <td>t-shirts</td>\n",
       "      <td>6582</td>\n",
       "    </tr>\n",
       "  </tbody>\n",
       "</table>\n",
       "</div>"
      ],
      "text/plain": [
       "                    count  unique  \\\n",
       "brand_name         159935    2451   \n",
       "category_name      159935    1037   \n",
       "index               99935   99935   \n",
       "item_condition_id  159935       5   \n",
       "item_description   159935  143606   \n",
       "name               159935  141999   \n",
       "shipping           159935       2   \n",
       "category_main      159935      10   \n",
       "category_sub1      159935     120   \n",
       "category_sub2      159935     798   \n",
       "\n",
       "                                                              top   freq  \n",
       "brand_name                                              unbranded  68493  \n",
       "category_name      women/athletic apparel/pants, tights, leggings   6419  \n",
       "index                                                       99999      1  \n",
       "item_condition_id                                               1  68799  \n",
       "item_description                                             none   8963  \n",
       "name                                                       bundle    293  \n",
       "shipping                                                        0  88526  \n",
       "category_main                                               women  71783  \n",
       "category_sub1                                    athletic apparel  14448  \n",
       "category_sub2                                            t-shirts   6582  "
      ]
     },
     "execution_count": 23,
     "metadata": {},
     "output_type": "execute_result"
    }
   ],
   "source": [
    "all_data.astype('object').describe().transpose()"
   ]
  },
  {
   "cell_type": "markdown",
   "metadata": {},
   "source": [
    "### Observations: \n",
    "1. women is the most popular category\n",
    "2. most of the products sold are unbranded"
   ]
  },
  {
   "cell_type": "markdown",
   "metadata": {},
   "source": [
    "## Target variable: Price "
   ]
  },
  {
   "cell_type": "code",
   "execution_count": 24,
   "metadata": {},
   "outputs": [
    {
     "data": {
      "text/plain": [
       "count    99935.000000\n",
       "mean        26.715770\n",
       "std         37.948666\n",
       "min          3.000000\n",
       "25%         10.000000\n",
       "50%         17.000000\n",
       "75%         29.000000\n",
       "max       1506.000000\n",
       "Name: price, dtype: float64"
      ]
     },
     "execution_count": 24,
     "metadata": {},
     "output_type": "execute_result"
    }
   ],
   "source": [
    "train.price.describe()"
   ]
  },
  {
   "cell_type": "code",
   "execution_count": 25,
   "metadata": {},
   "outputs": [
    {
     "data": {
      "text/plain": [
       "<matplotlib.axes._subplots.AxesSubplot at 0x19e8afd0240>"
      ]
     },
     "execution_count": 25,
     "metadata": {},
     "output_type": "execute_result"
    },
    {
     "data": {
      "image/png": "[encoded data removed]",
      "text/plain": [
       "<matplotlib.figure.Figure at 0x19ec2fe2b00>"
      ]
     },
     "metadata": {},
     "output_type": "display_data"
    }
   ],
   "source": [
    "#histogram\n",
    "sns.distplot(train['price'])"
   ]
  },
  {
   "cell_type": "code",
   "execution_count": 26,
   "metadata": {},
   "outputs": [
    {
     "data": {
      "text/plain": [
       "2.841847200680442"
      ]
     },
     "execution_count": 26,
     "metadata": {},
     "output_type": "execute_result"
    }
   ],
   "source": [
    "# % of products selling above $100\n",
    "train[train['price']>100]['price'].count()/train.shape[0]*100"
   ]
  },
  {
   "cell_type": "markdown",
   "metadata": {},
   "source": [
    "## Summary\n",
    "\n",
    "* The min value of price is 0. There are 65 products for 0 dollars.\n",
    "* The mean price is 26.7 USD\n",
    "* The third quartile of the price is on 29 USD, while the max value is 1506 USD. Thats a huge difference.\n",
    "* The price is highly skewed.\n",
    "* Only 2.84 percent of products have its price higher than 100 USD value.\n",
    "\n",
    "### Actions to take\n",
    "Log transformation has to be applied on price.\n",
    "\n",
    "#### Why log transformation? \n",
    "The price distribution is highly skewed, e.g., only 2.84% of data is more than 100 dollars and the max value is 1506 dollars. This reduces the relevance of the errors (in the predicted value) on lower prices. Log transformation converges the distribution to a smaller scale, which means that the difference between different values of price will reduce. This, in turn, would make the distribution more normal.\n",
    "\n",
    "## Procedure\n",
    "\n",
    "Step 1 Log Transformation: np.log(train['price']+1)\n",
    "\n",
    "Step 2 Predict with Log Transformation: test_pred = model.predict(X_test)\n",
    "\n",
    "Step 3 Convert back to original value by Exponential Transformation Y_test = np.expm1(test_pred)"
   ]
  },
  {
   "cell_type": "code",
   "execution_count": 27,
   "metadata": {},
   "outputs": [
    {
     "data": {
      "image/png": "[encoded data removed]",
      "text/plain": [
       "<matplotlib.figure.Figure at 0x19ec273b390>"
      ]
     },
     "metadata": {},
     "output_type": "display_data"
    }
   ],
   "source": [
    "# Plot Price Distribution\n",
    "plt.subplot(1,2,1)\n",
    "(train['price']).plot.hist(bins=50, figsize=(15,6), edgecolor = 'white', range = [0,250])\n",
    "plt.xlabel('price', fontsize = 12)\n",
    "plt.title('Price Distribution', fontsize = 12)\n",
    "\n",
    "# Check the distribution after transformation\n",
    "plt.subplot(1,2,2)\n",
    "np.log(train['price']+1).plot.hist(bins=50, figsize = (15,6), edgecolor = 'white')\n",
    "plt.xlabel('log(price+1)', fontsize = 12)\n",
    "plt.title('Log Price Distribution', fontsize = 12)\n",
    "\n",
    "plt.show()"
   ]
  },
  {
   "cell_type": "code",
   "execution_count": 28,
   "metadata": {},
   "outputs": [],
   "source": [
    "y_train = np.log1p(train['price'])"
   ]
  },
  {
   "cell_type": "markdown",
   "metadata": {},
   "source": [
    "## Shipping"
   ]
  },
  {
   "cell_type": "code",
   "execution_count": 29,
   "metadata": {},
   "outputs": [
    {
     "data": {
      "text/plain": [
       "0    0.553512\n",
       "1    0.446488\n",
       "Name: shipping, dtype: float64"
      ]
     },
     "execution_count": 29,
     "metadata": {},
     "output_type": "execute_result"
    }
   ],
   "source": [
    "all_data['shipping'].value_counts()/len(all_data)"
   ]
  },
  {
   "cell_type": "code",
   "execution_count": 30,
   "metadata": {},
   "outputs": [
    {
     "data": {
      "text/plain": [
       "<matplotlib.axes._subplots.AxesSubplot at 0x19e8cb2c5f8>"
      ]
     },
     "execution_count": 30,
     "metadata": {},
     "output_type": "execute_result"
    },
    {
     "data": {
      "image/png": "[encoded data removed]",
      "text/plain": [
       "<matplotlib.figure.Figure at 0x19ec2d9cba8>"
      ]
     },
     "metadata": {},
     "output_type": "display_data"
    }
   ],
   "source": [
    "all_data['shipping'].value_counts().plot.bar()"
   ]
  },
  {
   "cell_type": "markdown",
   "metadata": {},
   "source": [
    "### Observation:  \n",
    "* For 55% of the products, the shipping is paid by buyer"
   ]
  },
  {
   "cell_type": "markdown",
   "metadata": {},
   "source": [
    "## Price Distribution by Shipping Type "
   ]
  },
  {
   "cell_type": "code",
   "execution_count": 31,
   "metadata": {},
   "outputs": [],
   "source": [
    "#Hypothesis: Product price is higher when seller pays shipping"
   ]
  },
  {
   "cell_type": "code",
   "execution_count": 32,
   "metadata": {},
   "outputs": [
    {
     "data": {
      "image/png": "[encoded data removed]",
      "text/plain": [
       "<matplotlib.figure.Figure at 0x19ebcabde80>"
      ]
     },
     "metadata": {},
     "output_type": "display_data"
    }
   ],
   "source": [
    "shipping_fee_by_buyer = train.loc[train['shipping'] == 0, 'price']\n",
    "shipping_fee_by_seller = train.loc[train['shipping'] == 1, 'price']\n",
    "\n",
    "fig, ax = plt.subplots(figsize=(18,8))\n",
    "\n",
    "ax.hist(shipping_fee_by_seller, color='blue', alpha = 1, bins = 50, range=[0, 100], label = 'Price when Seller pays Shipping')\n",
    "ax.hist(shipping_fee_by_buyer, color='red', alpha = 0.7, bins = 50, range=[0, 100], label = 'Price when Buyer pays Shipping')\n",
    "\n",
    "plt.xlabel('price', fontsize = 12)\n",
    "plt.ylabel('frequency', fontsize=12)\n",
    "plt.title('Price Distribution by Shipping Type', fontsize=15)\n",
    "plt.tick_params(labelsize = 12)\n",
    "plt.legend()\n",
    "plt.show()"
   ]
  },
  {
   "cell_type": "markdown",
   "metadata": {},
   "source": [
    "### Average price for Shipping Type "
   ]
  },
  {
   "cell_type": "code",
   "execution_count": 33,
   "metadata": {},
   "outputs": [
    {
     "name": "stdout",
     "output_type": "stream",
     "text": [
      "The average price is 22.48 if seller pays shipping\n",
      "The average price is 30.15 if buyer pays shipping\n"
     ]
    }
   ],
   "source": [
    "print('The average price is {}'.format(round(shipping_fee_by_seller.mean(),2)), 'if seller pays shipping')\n",
    "print('The average price is {}'.format(round(shipping_fee_by_buyer.mean(),2)), 'if buyer pays shipping')\n"
   ]
  },
  {
   "cell_type": "markdown",
   "metadata": {},
   "source": [
    "## Item Condition "
   ]
  },
  {
   "cell_type": "code",
   "execution_count": 34,
   "metadata": {},
   "outputs": [
    {
     "data": {
      "text/plain": [
       "1    43.016851\n",
       "3    29.228749\n",
       "2    25.462219\n",
       "4     2.123988\n",
       "5     0.168193\n",
       "Name: item_condition_id, dtype: float64"
      ]
     },
     "execution_count": 34,
     "metadata": {},
     "output_type": "execute_result"
    }
   ],
   "source": [
    "all_data['item_condition_id'].value_counts()*100/len(all_data)"
   ]
  },
  {
   "cell_type": "code",
   "execution_count": 35,
   "metadata": {},
   "outputs": [
    {
     "data": {
      "text/plain": [
       "<matplotlib.axes._subplots.AxesSubplot at 0x19ec2e77da0>"
      ]
     },
     "execution_count": 35,
     "metadata": {},
     "output_type": "execute_result"
    },
    {
     "data": {
      "image/png": "[encoded data removed]",
      "text/plain": [
       "<matplotlib.figure.Figure at 0x19eb0d7b940>"
      ]
     },
     "metadata": {},
     "output_type": "display_data"
    }
   ],
   "source": [
    "all_data['item_condition_id'].value_counts().plot.bar()"
   ]
  },
  {
   "cell_type": "markdown",
   "metadata": {},
   "source": [
    "### Observation\n",
    "* About 72% of the products sold are in a good condition"
   ]
  },
  {
   "cell_type": "markdown",
   "metadata": {},
   "source": [
    "### Category "
   ]
  },
  {
   "cell_type": "code",
   "execution_count": 36,
   "metadata": {},
   "outputs": [
    {
     "data": {
      "text/plain": [
       "women                     44.882609\n",
       "beauty                    14.093225\n",
       "kids                      11.505924\n",
       "electronics                8.257730\n",
       "men                        6.275674\n",
       "home                       4.526214\n",
       "other                      3.545190\n",
       "vintage & collectibles     3.154406\n",
       "handmade                   2.070841\n",
       "sports & outdoors          1.688186\n",
       "Name: category_main, dtype: float64"
      ]
     },
     "execution_count": 36,
     "metadata": {},
     "output_type": "execute_result"
    }
   ],
   "source": [
    "all_data['category_main'].value_counts()*100/len(all_data)"
   ]
  },
  {
   "cell_type": "code",
   "execution_count": 37,
   "metadata": {},
   "outputs": [
    {
     "data": {
      "text/plain": [
       "<matplotlib.axes._subplots.AxesSubplot at 0x19e8d2de160>"
      ]
     },
     "execution_count": 37,
     "metadata": {},
     "output_type": "execute_result"
    },
    {
     "data": {
      "image/png": "[encoded data removed]",
      "text/plain": [
       "<matplotlib.figure.Figure at 0x19e8cabec88>"
      ]
     },
     "metadata": {},
     "output_type": "display_data"
    }
   ],
   "source": [
    "all_data['category_main'].value_counts().plot.bar()"
   ]
  },
  {
   "cell_type": "markdown",
   "metadata": {},
   "source": [
    "### Category versus Price "
   ]
  },
  {
   "cell_type": "code",
   "execution_count": 38,
   "metadata": {},
   "outputs": [
    {
     "data": {
      "text/plain": [
       "<matplotlib.axes._subplots.AxesSubplot at 0x19ec18d4080>"
      ]
     },
     "execution_count": 38,
     "metadata": {},
     "output_type": "execute_result"
    },
    {
     "data": {
      "image/png": "[encoded data removed]",
      "text/plain": [
       "<matplotlib.figure.Figure at 0x19e8c892b00>"
      ]
     },
     "metadata": {},
     "output_type": "display_data"
    }
   ],
   "source": [
    "#plot\n",
    "sns.set_style('ticks')\n",
    "fig, ax = plt.subplots()\n",
    "fig.set_size_inches(11.7,8.27)\n",
    "\n",
    "sns.boxplot(\n",
    "x= 'category_main',\n",
    "y = 'price',\n",
    "data = train[train['price']<60],\n",
    "ax=ax)"
   ]
  },
  {
   "cell_type": "markdown",
   "metadata": {},
   "source": [
    "### Observation\n",
    "* Men's category has the highest median price, while handmade category has lowest median price"
   ]
  },
  {
   "cell_type": "code",
   "execution_count": 39,
   "metadata": {
    "scrolled": true
   },
   "outputs": [
    {
     "data": {
      "text/html": [
       "<div>\n",
       "<style scoped>\n",
       "    .dataframe tbody tr th:only-of-type {\n",
       "        vertical-align: middle;\n",
       "    }\n",
       "\n",
       "    .dataframe tbody tr th {\n",
       "        vertical-align: top;\n",
       "    }\n",
       "\n",
       "    .dataframe thead th {\n",
       "        text-align: right;\n",
       "    }\n",
       "</style>\n",
       "<table border=\"1\" class=\"dataframe\">\n",
       "  <thead>\n",
       "    <tr style=\"text-align: right;\">\n",
       "      <th></th>\n",
       "      <th>index</th>\n",
       "      <th>category_sub1</th>\n",
       "    </tr>\n",
       "  </thead>\n",
       "  <tbody>\n",
       "    <tr>\n",
       "      <th>0</th>\n",
       "      <td>athletic apparel</td>\n",
       "      <td>14448</td>\n",
       "    </tr>\n",
       "    <tr>\n",
       "      <th>1</th>\n",
       "      <td>makeup</td>\n",
       "      <td>13499</td>\n",
       "    </tr>\n",
       "    <tr>\n",
       "      <th>2</th>\n",
       "      <td>tops &amp; blouses</td>\n",
       "      <td>11432</td>\n",
       "    </tr>\n",
       "    <tr>\n",
       "      <th>3</th>\n",
       "      <td>shoes</td>\n",
       "      <td>10877</td>\n",
       "    </tr>\n",
       "    <tr>\n",
       "      <th>4</th>\n",
       "      <td>jewelry</td>\n",
       "      <td>6690</td>\n",
       "    </tr>\n",
       "    <tr>\n",
       "      <th>5</th>\n",
       "      <td>toys</td>\n",
       "      <td>6268</td>\n",
       "    </tr>\n",
       "    <tr>\n",
       "      <th>6</th>\n",
       "      <td>cell phones &amp; accessories</td>\n",
       "      <td>5787</td>\n",
       "    </tr>\n",
       "    <tr>\n",
       "      <th>7</th>\n",
       "      <td>dresses</td>\n",
       "      <td>4977</td>\n",
       "    </tr>\n",
       "    <tr>\n",
       "      <th>8</th>\n",
       "      <td>women's handbags</td>\n",
       "      <td>4856</td>\n",
       "    </tr>\n",
       "    <tr>\n",
       "      <th>9</th>\n",
       "      <td>women's accessories</td>\n",
       "      <td>4566</td>\n",
       "    </tr>\n",
       "    <tr>\n",
       "      <th>10</th>\n",
       "      <td>jeans</td>\n",
       "      <td>3898</td>\n",
       "    </tr>\n",
       "    <tr>\n",
       "      <th>11</th>\n",
       "      <td>sweaters</td>\n",
       "      <td>3893</td>\n",
       "    </tr>\n",
       "    <tr>\n",
       "      <th>12</th>\n",
       "      <td>video games &amp; consoles</td>\n",
       "      <td>3849</td>\n",
       "    </tr>\n",
       "    <tr>\n",
       "      <th>13</th>\n",
       "      <td>underwear</td>\n",
       "      <td>3707</td>\n",
       "    </tr>\n",
       "    <tr>\n",
       "      <th>14</th>\n",
       "      <td>skin care</td>\n",
       "      <td>3192</td>\n",
       "    </tr>\n",
       "    <tr>\n",
       "      <th>15</th>\n",
       "      <td>fragrance</td>\n",
       "      <td>2710</td>\n",
       "    </tr>\n",
       "    <tr>\n",
       "      <th>16</th>\n",
       "      <td>home décor</td>\n",
       "      <td>2651</td>\n",
       "    </tr>\n",
       "    <tr>\n",
       "      <th>17</th>\n",
       "      <td>kitchen &amp; dining</td>\n",
       "      <td>2355</td>\n",
       "    </tr>\n",
       "    <tr>\n",
       "      <th>18</th>\n",
       "      <td>tops</td>\n",
       "      <td>2257</td>\n",
       "    </tr>\n",
       "    <tr>\n",
       "      <th>19</th>\n",
       "      <td>swimwear</td>\n",
       "      <td>2050</td>\n",
       "    </tr>\n",
       "  </tbody>\n",
       "</table>\n",
       "</div>"
      ],
      "text/plain": [
       "                        index  category_sub1\n",
       "0            athletic apparel          14448\n",
       "1                      makeup          13499\n",
       "2              tops & blouses          11432\n",
       "3                       shoes          10877\n",
       "4                     jewelry           6690\n",
       "5                        toys           6268\n",
       "6   cell phones & accessories           5787\n",
       "7                     dresses           4977\n",
       "8            women's handbags           4856\n",
       "9         women's accessories           4566\n",
       "10                      jeans           3898\n",
       "11                   sweaters           3893\n",
       "12     video games & consoles           3849\n",
       "13                  underwear           3707\n",
       "14                  skin care           3192\n",
       "15                  fragrance           2710\n",
       "16                 home décor           2651\n",
       "17           kitchen & dining           2355\n",
       "18                       tops           2257\n",
       "19                   swimwear           2050"
      ]
     },
     "execution_count": 39,
     "metadata": {},
     "output_type": "execute_result"
    }
   ],
   "source": [
    "# checking the top 20 subcategory1 values \n",
    "top_20_subcategory1 = all_data['category_sub1'].value_counts()[:20].reset_index()\n",
    "top_20_subcategory1"
   ]
  },
  {
   "cell_type": "code",
   "execution_count": 40,
   "metadata": {},
   "outputs": [
    {
     "data": {
      "text/plain": [
       "['athletic apparel',\n",
       " 'makeup',\n",
       " 'tops & blouses',\n",
       " 'shoes',\n",
       " 'jewelry',\n",
       " 'toys',\n",
       " 'cell phones & accessories',\n",
       " 'dresses',\n",
       " \"women's handbags\",\n",
       " \"women's accessories\"]"
      ]
     },
     "execution_count": 40,
     "metadata": {},
     "output_type": "execute_result"
    }
   ],
   "source": [
    "#save data to list for plotting\n",
    "list(top_20_subcategory1['index'])[0:10]"
   ]
  },
  {
   "cell_type": "code",
   "execution_count": 41,
   "metadata": {},
   "outputs": [
    {
     "data": {
      "image/png": "[encoded data removed]",
      "text/plain": [
       "<matplotlib.figure.Figure at 0x19ec584d630>"
      ]
     },
     "metadata": {},
     "output_type": "display_data"
    }
   ],
   "source": [
    "sns.set(style='whitegrid')\n",
    "\n",
    "# Initialize matplotlib figure\n",
    "f, ax = plt.subplots(figsize=(15,8))\n",
    "sns.barplot(x='category_sub1', y = 'index', data = top_20_subcategory1, label='# Item per category', color = 'g')\n",
    "\n",
    "# Add legend and axis information\n",
    "ax.set(ylabel = \"Sub Category 1\", title = '# Item Per Category', xlabel = '# of Items')\n",
    "plt.show()"
   ]
  },
  {
   "cell_type": "markdown",
   "metadata": {},
   "source": [
    "### Subcategory 2 "
   ]
  },
  {
   "cell_type": "code",
   "execution_count": 42,
   "metadata": {
    "scrolled": true
   },
   "outputs": [
    {
     "data": {
      "text/html": [
       "<div>\n",
       "<style scoped>\n",
       "    .dataframe tbody tr th:only-of-type {\n",
       "        vertical-align: middle;\n",
       "    }\n",
       "\n",
       "    .dataframe tbody tr th {\n",
       "        vertical-align: top;\n",
       "    }\n",
       "\n",
       "    .dataframe thead th {\n",
       "        text-align: right;\n",
       "    }\n",
       "</style>\n",
       "<table border=\"1\" class=\"dataframe\">\n",
       "  <thead>\n",
       "    <tr style=\"text-align: right;\">\n",
       "      <th></th>\n",
       "      <th>index</th>\n",
       "      <th>category_sub2</th>\n",
       "    </tr>\n",
       "  </thead>\n",
       "  <tbody>\n",
       "    <tr>\n",
       "      <th>0</th>\n",
       "      <td>t-shirts</td>\n",
       "      <td>6582</td>\n",
       "    </tr>\n",
       "    <tr>\n",
       "      <th>1</th>\n",
       "      <td>pants, tights, leggings</td>\n",
       "      <td>6419</td>\n",
       "    </tr>\n",
       "    <tr>\n",
       "      <th>2</th>\n",
       "      <td>face</td>\n",
       "      <td>5343</td>\n",
       "    </tr>\n",
       "    <tr>\n",
       "      <th>3</th>\n",
       "      <td>shoes</td>\n",
       "      <td>3493</td>\n",
       "    </tr>\n",
       "    <tr>\n",
       "      <th>4</th>\n",
       "      <td>lips</td>\n",
       "      <td>3341</td>\n",
       "    </tr>\n",
       "    <tr>\n",
       "      <th>5</th>\n",
       "      <td>games</td>\n",
       "      <td>3220</td>\n",
       "    </tr>\n",
       "    <tr>\n",
       "      <th>6</th>\n",
       "      <td>athletic</td>\n",
       "      <td>2992</td>\n",
       "    </tr>\n",
       "    <tr>\n",
       "      <th>7</th>\n",
       "      <td>women</td>\n",
       "      <td>2907</td>\n",
       "    </tr>\n",
       "    <tr>\n",
       "      <th>8</th>\n",
       "      <td>eyes</td>\n",
       "      <td>2874</td>\n",
       "    </tr>\n",
       "    <tr>\n",
       "      <th>9</th>\n",
       "      <td>cases, covers &amp; skins</td>\n",
       "      <td>2679</td>\n",
       "    </tr>\n",
       "    <tr>\n",
       "      <th>10</th>\n",
       "      <td>shorts</td>\n",
       "      <td>2375</td>\n",
       "    </tr>\n",
       "    <tr>\n",
       "      <th>11</th>\n",
       "      <td>bras</td>\n",
       "      <td>2365</td>\n",
       "    </tr>\n",
       "    <tr>\n",
       "      <th>12</th>\n",
       "      <td>blouse</td>\n",
       "      <td>2228</td>\n",
       "    </tr>\n",
       "    <tr>\n",
       "      <th>13</th>\n",
       "      <td>tank, cami</td>\n",
       "      <td>2208</td>\n",
       "    </tr>\n",
       "    <tr>\n",
       "      <th>14</th>\n",
       "      <td>above knee, mini</td>\n",
       "      <td>2176</td>\n",
       "    </tr>\n",
       "    <tr>\n",
       "      <th>15</th>\n",
       "      <td>boots</td>\n",
       "      <td>2175</td>\n",
       "    </tr>\n",
       "    <tr>\n",
       "      <th>16</th>\n",
       "      <td>necklaces</td>\n",
       "      <td>2123</td>\n",
       "    </tr>\n",
       "    <tr>\n",
       "      <th>17</th>\n",
       "      <td>makeup palettes</td>\n",
       "      <td>2077</td>\n",
       "    </tr>\n",
       "    <tr>\n",
       "      <th>18</th>\n",
       "      <td>shirts &amp; tops</td>\n",
       "      <td>1791</td>\n",
       "    </tr>\n",
       "    <tr>\n",
       "      <th>19</th>\n",
       "      <td>shoulder bag</td>\n",
       "      <td>1636</td>\n",
       "    </tr>\n",
       "  </tbody>\n",
       "</table>\n",
       "</div>"
      ],
      "text/plain": [
       "                      index  category_sub2\n",
       "0                  t-shirts           6582\n",
       "1   pants, tights, leggings           6419\n",
       "2                      face           5343\n",
       "3                     shoes           3493\n",
       "4                      lips           3341\n",
       "5                     games           3220\n",
       "6                  athletic           2992\n",
       "7                     women           2907\n",
       "8                      eyes           2874\n",
       "9     cases, covers & skins           2679\n",
       "10                   shorts           2375\n",
       "11                     bras           2365\n",
       "12                   blouse           2228\n",
       "13               tank, cami           2208\n",
       "14         above knee, mini           2176\n",
       "15                    boots           2175\n",
       "16                necklaces           2123\n",
       "17          makeup palettes           2077\n",
       "18            shirts & tops           1791\n",
       "19             shoulder bag           1636"
      ]
     },
     "execution_count": 42,
     "metadata": {},
     "output_type": "execute_result"
    }
   ],
   "source": [
    "# Lets explore the top 20 subcateogry 2\n",
    "top_20_subcategory2 = all_data['category_sub2'].value_counts()[:20].reset_index()\n",
    "top_20_subcategory2"
   ]
  },
  {
   "cell_type": "code",
   "execution_count": 43,
   "metadata": {
    "scrolled": true
   },
   "outputs": [
    {
     "data": {
      "image/png": "[encoded data removed]",
      "text/plain": [
       "<matplotlib.figure.Figure at 0x19ec23cc390>"
      ]
     },
     "metadata": {},
     "output_type": "display_data"
    }
   ],
   "source": [
    "sns.set(style='whitegrid')\n",
    "\n",
    "# Initialize the matplotlib figure\n",
    "f, ax = plt.subplots(figsize=(15, 8))\n",
    "\n",
    "sns.barplot(x='category_sub2', y='index', data=top_20_subcategory2, label='# Item per category', color='orange')\n",
    "\n",
    "# Add a legend and informative axis label\n",
    "ax.set( ylabel=\"Sub Category 2\", title='# Item Per Category',\n",
    "       xlabel=\"# of Items\")\n",
    "\n",
    "plt.show()"
   ]
  },
  {
   "cell_type": "code",
   "execution_count": 44,
   "metadata": {},
   "outputs": [
    {
     "data": {
      "text/plain": [
       "2451"
      ]
     },
     "execution_count": 44,
     "metadata": {},
     "output_type": "execute_result"
    }
   ],
   "source": [
    "# Lets compare number of brands in complete dataset and the training data\n",
    "all_data['brand_name'].nunique()"
   ]
  },
  {
   "cell_type": "code",
   "execution_count": 45,
   "metadata": {},
   "outputs": [
    {
     "data": {
      "text/plain": [
       "2065"
      ]
     },
     "execution_count": 45,
     "metadata": {},
     "output_type": "execute_result"
    }
   ],
   "source": [
    "# Number of unique brand names in training set\n",
    "train['brand_name'].nunique()"
   ]
  },
  {
   "cell_type": "markdown",
   "metadata": {},
   "source": [
    "### Observation\n",
    "* atheletic apparel is the most popular subcategory1 and t-shirts is the most popular subcategory2.\n",
    "* There are more brand names in the combined data, as compared to training data."
   ]
  },
  {
   "cell_type": "code",
   "execution_count": 46,
   "metadata": {},
   "outputs": [
    {
     "data": {
      "image/png": "[encoded data removed]",
      "text/plain": [
       "<matplotlib.figure.Figure at 0x19e8d0ef710>"
      ]
     },
     "metadata": {},
     "output_type": "display_data"
    }
   ],
   "source": [
    "# Top 20 Brand Distribution excluding \"unbranded\" \n",
    "b20 = all_data['brand_name'].value_counts()[1:20].reset_index().rename(columns={'index': 'brand_name', 'brand_name':'count'})\n",
    "ax = sns.barplot(x=\"brand_name\", y=\"count\", data=b20)\n",
    "ax.set_xticklabels(ax.get_xticklabels(),rotation=90)\n",
    "ax.set_title('Top 20 Brand Distribution', fontsize=15)\n",
    "plt.show()\n"
   ]
  },
  {
   "cell_type": "code",
   "execution_count": 47,
   "metadata": {
    "scrolled": true
   },
   "outputs": [
    {
     "data": {
      "text/plain": [
       "unbranded             68493\n",
       "pink                   5925\n",
       "nike                   5751\n",
       "victoria's secret      5220\n",
       "lularoe                3348\n",
       "apple                  1862\n",
       "forever 21             1666\n",
       "nintendo               1622\n",
       "lululemon              1595\n",
       "michael kors           1478\n",
       "american eagle         1429\n",
       "sephora                1277\n",
       "rae dunn               1265\n",
       "coach                  1134\n",
       "adidas                 1127\n",
       "bath & body works      1102\n",
       "disney                 1091\n",
       "funko                  1028\n",
       "sony                    908\n",
       "under armour            900\n",
       "old navy                821\n",
       "carter's                703\n",
       "the north face          699\n",
       "urban decay             688\n",
       "hollister               682\n",
       "independent             645\n",
       "too faced               617\n",
       "xbox                    612\n",
       "brandy melville         594\n",
       "mac                     572\n",
       "                      ...  \n",
       "academy                   1\n",
       "spense                    1\n",
       "prabal gurung             1\n",
       "giuseppe zanotti          1\n",
       "bp                        1\n",
       "groovy toys               1\n",
       "mishka                    1\n",
       "osiris                    1\n",
       "emma james                1\n",
       "patra                     1\n",
       "warrior                   1\n",
       "tony lama                 1\n",
       "adonna                    1\n",
       "taylor                    1\n",
       "softcup                   1\n",
       "true grit                 1\n",
       "elwood                    1\n",
       "the balm                  1\n",
       "earl jeans                1\n",
       "leading lady              1\n",
       "amazon essentials         1\n",
       "jack daniels              1\n",
       "the whistler group        1\n",
       "adam                      1\n",
       "yoana baraschi            1\n",
       "architect                 1\n",
       "hybrid                    1\n",
       "mural                     1\n",
       "hang ten                  1\n",
       "belle du jour             1\n",
       "Name: brand_name, Length: 2451, dtype: int64"
      ]
     },
     "execution_count": 47,
     "metadata": {},
     "output_type": "execute_result"
    }
   ],
   "source": [
    "all_data['brand_name'].value_counts().sort_values(ascending=False)"
   ]
  },
  {
   "cell_type": "markdown",
   "metadata": {},
   "source": [
    "#### Observations: \n",
    "* There are 68493 products which are either unbranded or of unknown brand.\n",
    "* Pink and Nike are the top brands whose products are sold in Mercari."
   ]
  },
  {
   "cell_type": "code",
   "execution_count": 48,
   "metadata": {},
   "outputs": [
    {
     "data": {
      "image/png": "[encoded data removed]",
      "text/plain": [
       "<matplotlib.figure.Figure at 0x19eaf630ac8>"
      ]
     },
     "metadata": {},
     "output_type": "display_data"
    }
   ],
   "source": [
    "# Top 20 expensive brands\n",
    "top_20_exp_brand = pd.DataFrame(train.groupby(['brand_name'],as_index=True).std().price.sort_values(ascending=False)[0:20]).reset_index()\n",
    "ax = sns.barplot(x=\"brand_name\", y=\"price\", data=top_20_exp_brand)\n",
    "ax.set_xticklabels(ax.get_xticklabels(),rotation=90)\n",
    "ax.set_title('Top 20 Expensive Brand Distribution', fontsize=15)\n",
    "plt.show()"
   ]
  },
  {
   "cell_type": "markdown",
   "metadata": {},
   "source": [
    "## Feature Engineering "
   ]
  },
  {
   "cell_type": "markdown",
   "metadata": {},
   "source": [
    "### Is Branded"
   ]
  },
  {
   "cell_type": "code",
   "execution_count": 49,
   "metadata": {},
   "outputs": [],
   "source": [
    "# Let us make a new feature \"is_branded\". If the item is of any known brand, we will update it with 1, otherwise 0.\n",
    "all_data.loc[(all_data.brand_name != 'unbranded'),'is_branded'] = 1\n",
    "all_data.loc[(all_data.brand_name == 'unbranded'),'is_branded'] = 0\n",
    "updateTrainTestDataset()"
   ]
  },
  {
   "cell_type": "code",
   "execution_count": 50,
   "metadata": {},
   "outputs": [
    {
     "data": {
      "text/plain": [
       "<matplotlib.axes._subplots.AxesSubplot at 0x19eaf4dbb70>"
      ]
     },
     "execution_count": 50,
     "metadata": {},
     "output_type": "execute_result"
    },
    {
     "data": {
      "image/png": "[encoded data removed]",
      "text/plain": [
       "<matplotlib.figure.Figure at 0x19ec59038d0>"
      ]
     },
     "metadata": {},
     "output_type": "display_data"
    }
   ],
   "source": [
    "# Is Branded distribution\n",
    "all_data['is_branded'].value_counts().plot.bar()"
   ]
  },
  {
   "cell_type": "code",
   "execution_count": 51,
   "metadata": {},
   "outputs": [
    {
     "data": {
      "text/plain": [
       "<matplotlib.axes._subplots.AxesSubplot at 0x19eb0a90908>"
      ]
     },
     "execution_count": 51,
     "metadata": {},
     "output_type": "execute_result"
    },
    {
     "data": {
      "image/png": "[encoded data removed]",
      "text/plain": [
       "<matplotlib.figure.Figure at 0x19ec2805f28>"
      ]
     },
     "metadata": {},
     "output_type": "display_data"
    }
   ],
   "source": [
    "# Is branded versus price\n",
    "# plot\n",
    "sns.set_style('ticks')\n",
    "fig, ax = plt.subplots()\n",
    "# the size of A4 paper\n",
    "fig.set_size_inches(6, 5)\n",
    "\n",
    "sns.boxplot(\n",
    "    x='is_branded',\n",
    "    y='price',\n",
    "    data=train[train['price'] < 60],\n",
    "    ax = ax\n",
    ")"
   ]
  },
  {
   "cell_type": "markdown",
   "metadata": {},
   "source": [
    "### Observation\n",
    "* Branded items sell at higher median price"
   ]
  },
  {
   "cell_type": "markdown",
   "metadata": {},
   "source": [
    "###  Item Description and Name length"
   ]
  },
  {
   "cell_type": "code",
   "execution_count": 52,
   "metadata": {},
   "outputs": [],
   "source": [
    "# Does the length of description and name have some affect on pricing?"
   ]
  },
  {
   "cell_type": "code",
   "execution_count": 53,
   "metadata": {},
   "outputs": [],
   "source": [
    "description_length = all_data['item_description'].astype(str).apply(lambda x : len(str(x)))\n",
    "name_length = all_data['name'].astype(str).apply(lambda x : len(str(x)))\n",
    "all_data['length'] = description_length + name_length\n",
    "updateTrainTestDataset()"
   ]
  },
  {
   "cell_type": "markdown",
   "metadata": {},
   "source": [
    "### Description length versus price"
   ]
  },
  {
   "cell_type": "code",
   "execution_count": 54,
   "metadata": {},
   "outputs": [
    {
     "data": {
      "image/png": "[encoded data removed]",
      "text/plain": [
       "<matplotlib.figure.Figure at 0x19eaf346cc0>"
      ]
     },
     "metadata": {},
     "output_type": "display_data"
    }
   ],
   "source": [
    "df = train.groupby('length')['price'].mean().reset_index()\n",
    "sns.regplot(x=df[\"length\"], y=(df[\"price\"]))\n",
    "plt.xlabel(\"word count\")\n",
    "plt.show()"
   ]
  },
  {
   "cell_type": "markdown",
   "metadata": {},
   "source": [
    "### Unique word count on Item Description and Name"
   ]
  },
  {
   "cell_type": "code",
   "execution_count": 55,
   "metadata": {},
   "outputs": [],
   "source": [
    "def count_unique(text):\n",
    "    text_list = text.split()\n",
    "    return len(set(text_list))\n",
    "\n",
    "description_unique = all_data['item_description'].astype(str).apply(lambda x : count_unique(str(x)))\n",
    "name_unique = all_data['name'].astype(str).apply(lambda x : count_unique(str(x)))\n",
    "all_data['unique'] = description_unique + name_unique\n",
    "updateTrainTestDataset()"
   ]
  },
  {
   "cell_type": "markdown",
   "metadata": {},
   "source": [
    "###  Count of unique words in description versus price"
   ]
  },
  {
   "cell_type": "code",
   "execution_count": 56,
   "metadata": {},
   "outputs": [
    {
     "data": {
      "image/png": "[encoded data removed]",
      "text/plain": [
       "<matplotlib.figure.Figure at 0x19ec242b5f8>"
      ]
     },
     "metadata": {},
     "output_type": "display_data"
    }
   ],
   "source": [
    "df = train.groupby('unique')['price'].mean().reset_index()\n",
    "sns.regplot(x=df[\"unique\"], y=(df[\"price\"]))\n",
    "plt.xlabel(\"unique word count\")\n",
    "plt.show()"
   ]
  },
  {
   "cell_type": "markdown",
   "metadata": {},
   "source": [
    "## Feature Extraction from Text"
   ]
  },
  {
   "cell_type": "code",
   "execution_count": 57,
   "metadata": {},
   "outputs": [
    {
     "data": {
      "text/plain": [
       "['i',\n",
       " 'me',\n",
       " 'my',\n",
       " 'myself',\n",
       " 'we',\n",
       " 'our',\n",
       " 'ours',\n",
       " 'ourselves',\n",
       " 'you',\n",
       " \"you're\",\n",
       " \"you've\",\n",
       " \"you'll\",\n",
       " \"you'd\",\n",
       " 'your',\n",
       " 'yours',\n",
       " 'yourself',\n",
       " 'yourselves',\n",
       " 'he',\n",
       " 'him',\n",
       " 'his',\n",
       " 'himself',\n",
       " 'she',\n",
       " \"she's\",\n",
       " 'her',\n",
       " 'hers',\n",
       " 'herself',\n",
       " 'it',\n",
       " \"it's\",\n",
       " 'its',\n",
       " 'itself',\n",
       " 'they',\n",
       " 'them',\n",
       " 'their',\n",
       " 'theirs',\n",
       " 'themselves',\n",
       " 'what',\n",
       " 'which',\n",
       " 'who',\n",
       " 'whom',\n",
       " 'this',\n",
       " 'that',\n",
       " \"that'll\",\n",
       " 'these',\n",
       " 'those',\n",
       " 'am',\n",
       " 'is',\n",
       " 'are',\n",
       " 'was',\n",
       " 'were',\n",
       " 'be',\n",
       " 'been',\n",
       " 'being',\n",
       " 'have',\n",
       " 'has',\n",
       " 'had',\n",
       " 'having',\n",
       " 'do',\n",
       " 'does',\n",
       " 'did',\n",
       " 'doing',\n",
       " 'a',\n",
       " 'an',\n",
       " 'the',\n",
       " 'and',\n",
       " 'but',\n",
       " 'if',\n",
       " 'or',\n",
       " 'because',\n",
       " 'as',\n",
       " 'until',\n",
       " 'while',\n",
       " 'of',\n",
       " 'at',\n",
       " 'by',\n",
       " 'for',\n",
       " 'with',\n",
       " 'about',\n",
       " 'against',\n",
       " 'between',\n",
       " 'into',\n",
       " 'through',\n",
       " 'during',\n",
       " 'before',\n",
       " 'after',\n",
       " 'above',\n",
       " 'below',\n",
       " 'to',\n",
       " 'from',\n",
       " 'up',\n",
       " 'down',\n",
       " 'in',\n",
       " 'out',\n",
       " 'on',\n",
       " 'off',\n",
       " 'over',\n",
       " 'under',\n",
       " 'again',\n",
       " 'further',\n",
       " 'then',\n",
       " 'once',\n",
       " 'here',\n",
       " 'there',\n",
       " 'when',\n",
       " 'where',\n",
       " 'why',\n",
       " 'how',\n",
       " 'all',\n",
       " 'any',\n",
       " 'both',\n",
       " 'each',\n",
       " 'few',\n",
       " 'more',\n",
       " 'most',\n",
       " 'other',\n",
       " 'some',\n",
       " 'such',\n",
       " 'no',\n",
       " 'nor',\n",
       " 'not',\n",
       " 'only',\n",
       " 'own',\n",
       " 'same',\n",
       " 'so',\n",
       " 'than',\n",
       " 'too',\n",
       " 'very',\n",
       " 's',\n",
       " 't',\n",
       " 'can',\n",
       " 'will',\n",
       " 'just',\n",
       " 'don',\n",
       " \"don't\",\n",
       " 'should',\n",
       " \"should've\",\n",
       " 'now',\n",
       " 'd',\n",
       " 'll',\n",
       " 'm',\n",
       " 'o',\n",
       " 're',\n",
       " 've',\n",
       " 'y',\n",
       " 'ain',\n",
       " 'aren',\n",
       " \"aren't\",\n",
       " 'couldn',\n",
       " \"couldn't\",\n",
       " 'didn',\n",
       " \"didn't\",\n",
       " 'doesn',\n",
       " \"doesn't\",\n",
       " 'hadn',\n",
       " \"hadn't\",\n",
       " 'hasn',\n",
       " \"hasn't\",\n",
       " 'haven',\n",
       " \"haven't\",\n",
       " 'isn',\n",
       " \"isn't\",\n",
       " 'ma',\n",
       " 'mightn',\n",
       " \"mightn't\",\n",
       " 'mustn',\n",
       " \"mustn't\",\n",
       " 'needn',\n",
       " \"needn't\",\n",
       " 'shan',\n",
       " \"shan't\",\n",
       " 'shouldn',\n",
       " \"shouldn't\",\n",
       " 'wasn',\n",
       " \"wasn't\",\n",
       " 'weren',\n",
       " \"weren't\",\n",
       " 'won',\n",
       " \"won't\",\n",
       " 'wouldn',\n",
       " \"wouldn't\"]"
      ]
     },
     "execution_count": 57,
     "metadata": {},
     "output_type": "execute_result"
    }
   ],
   "source": [
    "# import nltk\n",
    "# nltk.download('stopwords')\n",
    "# generating list of stop words\n",
    "stop = stopwords.words('english')\n",
    "stop"
   ]
  },
  {
   "cell_type": "code",
   "execution_count": 58,
   "metadata": {
    "scrolled": true
   },
   "outputs": [
    {
     "data": {
      "text/plain": [
       "[('!', ''),\n",
       " ('\"', ''),\n",
       " ('#', ''),\n",
       " ('$', ''),\n",
       " ('%', ''),\n",
       " ('&', ''),\n",
       " (\"'\", ''),\n",
       " ('(', ''),\n",
       " (')', ''),\n",
       " ('*', ''),\n",
       " ('+', ''),\n",
       " (',', ''),\n",
       " ('-', ''),\n",
       " ('.', ''),\n",
       " ('/', ''),\n",
       " (':', ''),\n",
       " (';', ''),\n",
       " ('<', ''),\n",
       " ('=', ''),\n",
       " ('>', ''),\n",
       " ('?', ''),\n",
       " ('@', ''),\n",
       " ('[', ''),\n",
       " ('\\\\', ''),\n",
       " (']', ''),\n",
       " ('^', ''),\n",
       " ('_', ''),\n",
       " ('`', ''),\n",
       " ('{', ''),\n",
       " ('|', ''),\n",
       " ('}', ''),\n",
       " ('~', '')]"
      ]
     },
     "execution_count": 58,
     "metadata": {},
     "output_type": "execute_result"
    }
   ],
   "source": [
    "# generating list of punctuation marks\n",
    "punctuation_symbols = []\n",
    "for symbol in punctuation:\n",
    "    punctuation_symbols.append((symbol, ''))\n",
    "punctuation_symbols"
   ]
  },
  {
   "cell_type": "code",
   "execution_count": 59,
   "metadata": {},
   "outputs": [],
   "source": [
    "import string\n",
    "\n",
    "# Function to remove punctuations\n",
    "def remove_punctuation(sentence: str) -> str:\n",
    "    return sentence.translate(str.maketrans('', '', string.punctuation))\n",
    "\n",
    "# Function to remove stop words\n",
    "def remove_stop_words(x):\n",
    "    x = ' '.join([i for i in x.lower().split(' ') if i not in stop])\n",
    "    return x\n",
    "\n",
    "# Function to remove digits\n",
    "def remove_digits(x):\n",
    "    x = ''.join([i for i in x if not i.isdigit()])\n",
    "    return x"
   ]
  },
  {
   "cell_type": "code",
   "execution_count": 60,
   "metadata": {},
   "outputs": [],
   "source": [
    "# Stem the Words\n",
    "porter = PorterStemmer()\n",
    "all_data['item_description'] = all_data['item_description'].apply(porter.stem)\n",
    "\n",
    "all_data['item_description'] = all_data['item_description'].apply(remove_punctuation)\n",
    "all_data['item_description'] = all_data['item_description'].apply(remove_stop_words)\n",
    "all_data['item_description'] = all_data['item_description'].apply(remove_digits)\n",
    "\n",
    "all_data['name'] = all_data['name'].apply(remove_punctuation)\n",
    "all_data['name'] = all_data['name'].apply(remove_stop_words)\n",
    "all_data['name'] = all_data['name'].apply(remove_digits)\n",
    "\n",
    "updateTrainTestDataset()"
   ]
  },
  {
   "cell_type": "markdown",
   "metadata": {},
   "source": [
    "## Count Vectorizer"
   ]
  },
  {
   "cell_type": "code",
   "execution_count": 61,
   "metadata": {},
   "outputs": [],
   "source": [
    "# CountVectorizer - name & categories\n",
    "cv = CountVectorizer(min_df=10) # minimum threshold that words appear more than 10 times \n",
    "X_name = cv.fit_transform(all_data['name'])\n",
    "X_category_main = cv.fit_transform(all_data['category_main'])\n",
    "X_category_sub1 = cv.fit_transform(all_data['category_sub1'])\n",
    "X_category_sub2 = cv.fit_transform(all_data['category_sub2'])"
   ]
  },
  {
   "cell_type": "code",
   "execution_count": 62,
   "metadata": {},
   "outputs": [
    {
     "name": "stdout",
     "output_type": "stream",
     "text": [
      "Item Name Shape: (159935, 5239)\n",
      "Category Main Shape: (159935, 12)\n",
      "Category Sub1 Shape: (159935, 136)\n",
      "Category Sub2 Shape: (159935, 611)\n"
     ]
    }
   ],
   "source": [
    "#check shape after vectorizing\n",
    "print(\"Item Name Shape: \" + str(X_name.shape))\n",
    "print(\"Category Main Shape: \" + str(X_category_main.shape))\n",
    "print(\"Category Sub1 Shape: \" + str(X_category_sub1.shape))\n",
    "print(\"Category Sub2 Shape: \" + str(X_category_sub2.shape))"
   ]
  },
  {
   "cell_type": "markdown",
   "metadata": {},
   "source": [
    "## Label Binarizer "
   ]
  },
  {
   "cell_type": "code",
   "execution_count": 63,
   "metadata": {},
   "outputs": [],
   "source": [
    "# Apply LabelBinarizer to \"brand_name\"\n",
    "lb = LabelBinarizer(sparse_output=True)\n",
    "X_brand = lb.fit_transform(all_data['brand_name'])"
   ]
  },
  {
   "cell_type": "code",
   "execution_count": 64,
   "metadata": {},
   "outputs": [
    {
     "name": "stdout",
     "output_type": "stream",
     "text": [
      "Item Brand Shape: (159935, 2451)\n"
     ]
    }
   ],
   "source": [
    "print(\"Item Brand Shape: \" + str(X_brand.shape))"
   ]
  },
  {
   "cell_type": "markdown",
   "metadata": {},
   "source": [
    "## TFIDF "
   ]
  },
  {
   "cell_type": "code",
   "execution_count": 65,
   "metadata": {},
   "outputs": [],
   "source": [
    "# Perform a TFIDF Transformation of the item description with the top 55000 features and has an n-gram range of 1-2\n",
    "tv = TfidfVectorizer(max_features=55000, ngram_range=(1, 2), stop_words='english')\n",
    "X_description = tv.fit_transform(all_data['item_description'])"
   ]
  },
  {
   "cell_type": "code",
   "execution_count": 66,
   "metadata": {},
   "outputs": [
    {
     "name": "stdout",
     "output_type": "stream",
     "text": [
      "Item Description Shape: (159935, 55000)\n"
     ]
    }
   ],
   "source": [
    "print(\"Item Description Shape: \" + str(X_description.shape))"
   ]
  },
  {
   "cell_type": "code",
   "execution_count": 67,
   "metadata": {},
   "outputs": [
    {
     "data": {
      "text/plain": [
       "99935"
      ]
     },
     "execution_count": 67,
     "metadata": {},
     "output_type": "execute_result"
    }
   ],
   "source": [
    "train.shape[0]"
   ]
  },
  {
   "cell_type": "code",
   "execution_count": 69,
   "metadata": {},
   "outputs": [],
   "source": [
    "# Definte RMSLE Cross Validation Function\n",
    "def rmse_cv(model):\n",
    "    kf = KFold(3, True, 1) #allow 3 folds, shuffling and random generator 1\n",
    "    rmse= np.sqrt(-cross_val_score(model, train['item_description'],y_train, scoring=\"neg_mean_squared_error\", cv = kf))\n",
    "    print(rmse)\n",
    "    return(rmse.mean())"
   ]
  },
  {
   "cell_type": "markdown",
   "metadata": {},
   "source": [
    "## Baseline Model with CountVectorizer and Stop Words "
   ]
  },
  {
   "cell_type": "code",
   "execution_count": 70,
   "metadata": {},
   "outputs": [
    {
     "name": "stdout",
     "output_type": "stream",
     "text": [
      "[0.67858133 0.67675463 0.67364417]\n",
      "The Validation Score is: 0.6763267118310289\n"
     ]
    }
   ],
   "source": [
    "vec = CountVectorizer()#stop_words='english')\n",
    "clf = Ridge()\n",
    "pipe = make_pipeline(vec, clf)\n",
    "pipe.fit(train['item_description'], y_train)\n",
    "\n",
    "cv_sw_rmse = rmse_cv(pipe)  \n",
    "\n",
    "print(\"The Validation Score is: \" + str(cv_sw_rmse))"
   ]
  },
  {
   "cell_type": "markdown",
   "metadata": {},
   "source": [
    "## Baseline Model with TF-IDF, Stop Words and N-Grams "
   ]
  },
  {
   "cell_type": "code",
   "execution_count": 71,
   "metadata": {},
   "outputs": [
    {
     "name": "stdout",
     "output_type": "stream",
     "text": [
      "[0.6190938  0.61646718 0.61894912]\n",
      "The Validation Score is: 0.6181700339238959\n"
     ]
    }
   ],
   "source": [
    "vec = TfidfVectorizer(stop_words='english', ngram_range=(1,2))\n",
    "clf = Ridge()\n",
    "pipe = make_pipeline(vec, clf)\n",
    "pipe.fit(train['item_description'], y_train)\n",
    "\n",
    "tfidf_sw_ng_rmse = rmse_cv(pipe)\n",
    "\n",
    "print(\"The Validation Score is: \" + str(tfidf_sw_ng_rmse))"
   ]
  },
  {
   "cell_type": "markdown",
   "metadata": {},
   "source": [
    "## RMSLE Summary"
   ]
  },
  {
   "cell_type": "code",
   "execution_count": 72,
   "metadata": {},
   "outputs": [
    {
     "name": "stdout",
     "output_type": "stream",
     "text": [
      "RMSE Score: 0.6763267118310289 | CountVectorizer | Stop Words\n",
      "RMSE Score: 0.6181700339238959 | TF-IDF | Stop Words | N-Grams\n"
     ]
    }
   ],
   "source": [
    "print (\"RMSE Score: \" + str(cv_sw_rmse) + \" | CountVectorizer | Stop Words\")\n",
    "print (\"RMSE Score: \" + str(tfidf_sw_ng_rmse) + \" | TF-IDF | Stop Words | N-Grams\")"
   ]
  },
  {
   "cell_type": "markdown",
   "metadata": {},
   "source": [
    "## Encoding "
   ]
  },
  {
   "cell_type": "code",
   "execution_count": 73,
   "metadata": {},
   "outputs": [],
   "source": [
    "# Apply get_dummies to \"item_condition_id\" and \"shipping\" and then convert into a CSR Matrix\n",
    "X_dummies = csr_matrix(pd.get_dummies(all_data[['item_condition_id', 'shipping']], sparse=True).values)"
   ]
  },
  {
   "cell_type": "markdown",
   "metadata": {},
   "source": [
    "## Merge the Sparse Matrices "
   ]
  },
  {
   "cell_type": "code",
   "execution_count": 74,
   "metadata": {},
   "outputs": [],
   "source": [
    "# converting numerical columns to matrix\n",
    "X_numerical = all_data[['is_branded', 'length', 'unique']].as_matrix()\n",
    "\n",
    "# Combine everything together\n",
    "sparse_merge = hstack((X_dummies, X_description, X_name, X_category_main, X_category_sub1, X_category_sub2, X_numerical)).tocsr()"
   ]
  },
  {
   "cell_type": "code",
   "execution_count": 75,
   "metadata": {},
   "outputs": [
    {
     "data": {
      "text/plain": [
       "(159935, 61003)"
      ]
     },
     "execution_count": 75,
     "metadata": {},
     "output_type": "execute_result"
    }
   ],
   "source": [
    "sparse_merge.shape"
   ]
  },
  {
   "cell_type": "markdown",
   "metadata": {},
   "source": [
    "## Train and Test Split "
   ]
  },
  {
   "cell_type": "code",
   "execution_count": 76,
   "metadata": {},
   "outputs": [],
   "source": [
    "X_train_sparse = sparse_merge[:train_size]\n",
    "X_test = sparse_merge[train_size:]"
   ]
  },
  {
   "cell_type": "markdown",
   "metadata": {},
   "source": [
    "## Define RMSE Function"
   ]
  },
  {
   "cell_type": "code",
   "execution_count": 77,
   "metadata": {},
   "outputs": [],
   "source": [
    "def get_rmse(y, pred): \n",
    "    return np.sqrt(mean_squared_error(y, pred))"
   ]
  },
  {
   "cell_type": "markdown",
   "metadata": {},
   "source": [
    "## Ridge Regression Cross Validation "
   ]
  },
  {
   "cell_type": "code",
   "execution_count": 78,
   "metadata": {},
   "outputs": [
    {
     "name": "stdout",
     "output_type": "stream",
     "text": [
      "Ridge Training RMSE: 0.62783\n",
      "Ridge Validation RMSE: 0.62960\n",
      "Ridge Training RMSE: 0.62810\n",
      "Ridge Validation RMSE: 0.62732\n",
      "Ridge Training RMSE: 0.62677\n",
      "Ridge Validation RMSE: 0.63059\n",
      "Wall time: 1min 41s\n"
     ]
    }
   ],
   "source": [
    "%%time\n",
    "\n",
    "# Create 3-Fold CV\n",
    "cv = KFold(n_splits=3, shuffle=True, random_state=42)\n",
    "for train_ids, valid_ids in cv.split(X_train_sparse):\n",
    "    # Define LGBM Model\n",
    "    model_ridge = Ridge(solver = \"lsqr\", fit_intercept=True, random_state=42)\n",
    "    \n",
    "    # Fit LGBM Model\n",
    "    model_ridge.fit(X_train_sparse[train_ids], y_train[train_ids])\n",
    "    \n",
    "    # Predict & Evaluate Training Score\n",
    "    y_pred_train = model_ridge.predict(X_train_sparse[train_ids])\n",
    "    rmse_train = get_rmse(y_train[train_ids], y_pred_train) \n",
    "    # Predict & Evaluate Validation Score\n",
    "    y_pred_valid = model_ridge.predict(X_train_sparse[valid_ids])\n",
    "    rmse_valid = get_rmse(y_train[valid_ids], y_pred_valid)\n",
    "    \n",
    "    print(f'Ridge Training RMSE: {rmse_train:.5f}')\n",
    "    print(f'Ridge Validation RMSE: {rmse_valid:.5f}')"
   ]
  },
  {
   "cell_type": "markdown",
   "metadata": {},
   "source": [
    "### Decision Tree Regressor with Cross Validation"
   ]
  },
  {
   "cell_type": "code",
   "execution_count": 79,
   "metadata": {},
   "outputs": [
    {
     "name": "stdout",
     "output_type": "stream",
     "text": [
      "DecisionTree Training RMSE: 0.60836\n",
      "DecisionTree Validation RMSE: 0.62854\n",
      "DecisionTree Training RMSE: 0.60777\n",
      "DecisionTree Validation RMSE: 0.62944\n",
      "DecisionTree Training RMSE: 0.60720\n",
      "DecisionTree Validation RMSE: 0.62868\n",
      "Wall time: 44.1 s\n"
     ]
    }
   ],
   "source": [
    "%%time\n",
    "\n",
    "# Create 3-Fold CV\n",
    "cv = KFold(n_splits=3, shuffle=True, random_state=42)\n",
    "for train_ids, valid_ids in cv.split(X_train_sparse):\n",
    "    # Define LGBM Model\n",
    "    model_dtr = DecisionTreeRegressor(max_depth=15, max_leaf_nodes=200, random_state=42)\n",
    "    \n",
    "    # Fit LGBM Model\n",
    "    model_dtr.fit(X_train_sparse[train_ids], y_train[train_ids])\n",
    "    \n",
    "    # Predict & Evaluate Training Score\n",
    "    y_pred_train = model_dtr.predict(X_train_sparse[train_ids])\n",
    "    rmse_train = get_rmse(y_train[train_ids], y_pred_train)\n",
    "    \n",
    "    # Predict & Evaluate Validation Score\n",
    "    y_pred_valid = model_dtr.predict(X_train_sparse[valid_ids])\n",
    "    rmse_valid = get_rmse(y_train[valid_ids], y_pred_valid)\n",
    "    \n",
    "    print(f'DecisionTree Training RMSE: {rmse_train:.5f}')\n",
    "    print(f'DecisionTree Validation RMSE: {rmse_valid:.5f}')"
   ]
  },
  {
   "cell_type": "markdown",
   "metadata": {},
   "source": [
    "## Ensemble"
   ]
  },
  {
   "cell_type": "code",
   "execution_count": 80,
   "metadata": {},
   "outputs": [],
   "source": [
    "#train Test Split\n",
    "train_X, test_X, train_y, test_y = train_test_split(X_train_sparse, y_train, test_size=0.2, random_state=42)"
   ]
  },
  {
   "cell_type": "markdown",
   "metadata": {},
   "source": [
    "### Ridge Regression"
   ]
  },
  {
   "cell_type": "code",
   "execution_count": 81,
   "metadata": {},
   "outputs": [],
   "source": [
    "model_ridge = Ridge(solver = \"lsqr\", fit_intercept=True, random_state=42)\n",
    "model_ridge.fit(train_X, train_y)\n",
    "    \n",
    "# Evaluate Training Score\n",
    "ridge_y_pred = model_ridge.predict(test_X)"
   ]
  },
  {
   "cell_type": "code",
   "execution_count": 82,
   "metadata": {},
   "outputs": [
    {
     "name": "stdout",
     "output_type": "stream",
     "text": [
      "Ridge RMSE: 0.63006\n"
     ]
    }
   ],
   "source": [
    "ridge_rmse = get_rmse(test_y, ridge_y_pred)\n",
    "\n",
    "print(f'Ridge RMSE: {ridge_rmse:.5f}')"
   ]
  },
  {
   "cell_type": "markdown",
   "metadata": {},
   "source": [
    "### Decision Tree Regressor"
   ]
  },
  {
   "cell_type": "code",
   "execution_count": 83,
   "metadata": {},
   "outputs": [],
   "source": [
    "model_dtr = DecisionTreeRegressor(max_depth=15, max_leaf_nodes=200, random_state=42)\n",
    "model_dtr.fit(train_X, train_y)\n",
    "    \n",
    "# Evaluate Training Score\n",
    "dtr_y_pred = model_dtr.predict(test_X)"
   ]
  },
  {
   "cell_type": "code",
   "execution_count": 84,
   "metadata": {},
   "outputs": [
    {
     "name": "stdout",
     "output_type": "stream",
     "text": [
      "Ridge RMSE: 0.62884\n"
     ]
    }
   ],
   "source": [
    "dtr_rmse = get_rmse(dtr_y_pred, test_y)\n",
    "\n",
    "print(f'Ridge RMSE: {dtr_rmse:.5f}')"
   ]
  },
  {
   "cell_type": "markdown",
   "metadata": {},
   "source": [
    "### Ensemble"
   ]
  },
  {
   "cell_type": "code",
   "execution_count": 85,
   "metadata": {},
   "outputs": [
    {
     "name": "stdout",
     "output_type": "stream",
     "text": [
      "Ensemble RMSE: 0.61297\n"
     ]
    }
   ],
   "source": [
    "ensemble_y_pred = (dtr_y_pred+ridge_y_pred)/2\n",
    "\n",
    "ensemble_rmse = get_rmse(ensemble_y_pred, test_y)\n",
    "\n",
    "print(f'Ensemble RMSE: {ensemble_rmse:.5f}')"
   ]
  },
  {
   "cell_type": "markdown",
   "metadata": {},
   "source": [
    "##  Save models"
   ]
  },
  {
   "cell_type": "code",
   "execution_count": 86,
   "metadata": {},
   "outputs": [],
   "source": [
    "import pickle\n",
    "\n",
    "modelList = [(model_dtr, 'DTR.sav'),\n",
    "            (model_ridge, 'RidgeRegression.sav')]\n",
    "\n",
    "for model, filename in modelList:\n",
    "    pickle.dump(model, open(\"models_\"+filename, 'wb'))"
   ]
  },
  {
   "cell_type": "markdown",
   "metadata": {},
   "source": [
    "## Predictions on Kaggle Test data"
   ]
  },
  {
   "cell_type": "markdown",
   "metadata": {},
   "source": [
    "### Prediction by Ridge"
   ]
  },
  {
   "cell_type": "code",
   "execution_count": 87,
   "metadata": {},
   "outputs": [],
   "source": [
    "ridge_kaggle_y = model_ridge.predict(X_test)"
   ]
  },
  {
   "cell_type": "code",
   "execution_count": 88,
   "metadata": {},
   "outputs": [],
   "source": [
    "# inverse log transformation\n",
    "submission[\"price\"] = np.expm1(ridge_kaggle_y)"
   ]
  },
  {
   "cell_type": "code",
   "execution_count": 89,
   "metadata": {},
   "outputs": [],
   "source": [
    "# first submission file\n",
    "submission.to_csv('submission_ridge.csv',index=False)"
   ]
  },
  {
   "cell_type": "markdown",
   "metadata": {},
   "source": [
    "### Predictions by DTR"
   ]
  },
  {
   "cell_type": "code",
   "execution_count": 90,
   "metadata": {},
   "outputs": [],
   "source": [
    "\n",
    "dtr_kaggle_y = model_dtr.predict(X_test)"
   ]
  },
  {
   "cell_type": "code",
   "execution_count": 91,
   "metadata": {},
   "outputs": [],
   "source": [
    "# inverse log transformation\n",
    "submission[\"price\"] = np.expm1(dtr_kaggle_y)"
   ]
  },
  {
   "cell_type": "code",
   "execution_count": 92,
   "metadata": {},
   "outputs": [],
   "source": [
    "# second submission file\n",
    "submission.to_csv('submission_dtr.csv',index=False)"
   ]
  },
  {
   "cell_type": "markdown",
   "metadata": {},
   "source": [
    "### Predictions by Ensemble"
   ]
  },
  {
   "cell_type": "code",
   "execution_count": 93,
   "metadata": {},
   "outputs": [],
   "source": [
    "ensemble_y_kaggle = (dtr_kaggle_y+ridge_kaggle_y)/2\n",
    "\n",
    "# inverse log transformation\n",
    "submission[\"price\"] = np.expm1(ensemble_y_kaggle)\n",
    "\n",
    "# third submission file\n",
    "submission.to_csv('submission_ensemble.csv',index=False)"
   ]
  }
 ],
 "metadata": {
  "kernelspec": {
   "display_name": "Python 3",
   "language": "python",
   "name": "python3"
  },
  "language_info": {
   "codemirror_mode": {
    "name": "ipython",
    "version": 3
   },
   "file_extension": ".py",
   "mimetype": "text/x-python",
   "name": "python",
   "nbconvert_exporter": "python",
   "pygments_lexer": "ipython3",
   "version": "3.6.4"
  }
 },
 "nbformat": 4,
 "nbformat_minor": 2
}
